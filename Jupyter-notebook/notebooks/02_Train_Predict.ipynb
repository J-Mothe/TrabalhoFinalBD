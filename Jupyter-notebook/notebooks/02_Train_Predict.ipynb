{
 "cells": [
  {
   "cell_type": "markdown",
   "id": "800cd0bd",
   "metadata": {},
   "source": [
    "# Notebook 2 – Treino e Previsão\n",
    "\n",
    "Treina um modelo novo (TF‑IDF + RandomForest) e rotula uma amostra de 5 000 docs."
   ]
  },
  {
   "cell_type": "code",
   "execution_count": null,
   "id": "58811982",
   "metadata": {},
   "outputs": [],
   "source": [
    "import pandas as pd, numpy as np, joblib\n",
    "from pymongo import MongoClient\n",
    "from elasticsearch import Elasticsearch, helpers\n",
    "from sklearn.model_selection import train_test_split\n",
    "from sklearn.feature_extraction.text import CountVectorizer, TfidfTransformer\n",
    "from sklearn.pipeline import Pipeline\n",
    "from sklearn.ensemble import RandomForestClassifier\n",
    "from sklearn.metrics import accuracy_score, classification_report\n",
    "\n",
    "mongo = MongoClient('mongodb://localhost:27017')['lab_ml']\n",
    "raw_docs = list(mongo.tweets_raw.find({}, {'clean_text':1, 'Label':1, '_id':0}))\n",
    "df = pd.DataFrame(raw_docs)\n",
    "\n",
    "label_map = {0:'Politics',1:'Sport',2:'Technology',3:'Entertainment',4:'Business'}\n",
    "df['Label'] = df['Label'].map(label_map)\n",
    "\n",
    "X_train, X_test, y_train, y_test = train_test_split(\n",
    "    df['clean_text'], df['Label'], test_size=0.3, random_state=42, stratify=df['Label']\n",
    ")\n",
    "\n",
    "pipeline = Pipeline([\n",
    "    ('vect', CountVectorizer(stop_words='english')),\n",
    "    ('tfidf', TfidfTransformer()),\n",
    "    ('clf', RandomForestClassifier(n_estimators=300, random_state=42))\n",
    "])\n",
    "\n",
    "pipeline.fit(X_train, y_train)\n",
    "preds = pipeline.predict(X_test)\n",
    "print('Acurácia:', accuracy_score(y_test, preds))\n",
    "print(classification_report(y_test, preds))\n",
    "\n",
    "joblib.dump(pipeline, 'rf_tfidf_pipeline.joblib')\n",
    "\n",
    "sample = list(mongo.tweets_raw.aggregate([{'$sample': {'size': 5000}}]))\n",
    "sample_df = pd.DataFrame(sample)\n",
    "sample_df['predicted_label'] = pipeline.predict(sample_df['clean_text'])\n",
    "\n",
    "mongo.tweets_predicted.delete_many({})\n",
    "mongo.tweets_predicted.insert_many(sample_df.to_dict('records'))\n",
    "\n",
    "es = Elasticsearch('http://localhost:9200')\n",
    "helpers.bulk(es, ({\n",
    "    '_index': 'tweets_predicted',\n",
    "    '_id': str(i),\n",
    "    '_source': rec\n",
    "} for i, rec in sample_df.to_dict('index').items()))\n",
    "\n",
    "print('✅  Amostra rotulada e salva:', len(sample_df))\n"
   ]
  }
 ],
 "metadata": {
  "language_info": {
   "name": "python"
  }
 },
 "nbformat": 4,
 "nbformat_minor": 5
}
